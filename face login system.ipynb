{
 "cells": [
  {
   "cell_type": "code",
   "execution_count": 9,
   "id": "dce3859a",
   "metadata": {},
   "outputs": [
    {
     "ename": "ModuleNotFoundError",
     "evalue": "No module named 'face_recognition'",
     "output_type": "error",
     "traceback": [
      "\u001b[1;31m---------------------------------------------------------------------------\u001b[0m",
      "\u001b[1;31mModuleNotFoundError\u001b[0m                       Traceback (most recent call last)",
      "Input \u001b[1;32mIn [9]\u001b[0m, in \u001b[0;36m<cell line: 5>\u001b[1;34m()\u001b[0m\n\u001b[0;32m      1\u001b[0m \u001b[38;5;28;01mimport\u001b[39;00m \u001b[38;5;21;01mcgi\u001b[39;00m\n\u001b[0;32m      3\u001b[0m \u001b[38;5;28;01mfrom\u001b[39;00m \u001b[38;5;21;01mbase64\u001b[39;00m \u001b[38;5;28;01mimport\u001b[39;00m b64decode\n\u001b[1;32m----> 5\u001b[0m \u001b[38;5;28;01mimport\u001b[39;00m \u001b[38;5;21;01mface_recognition\u001b[39;00m\n\u001b[0;32m      7\u001b[0m formData \u001b[38;5;241m=\u001b[39m cgi\u001b[38;5;241m.\u001b[39mFieldStorage()\n\u001b[0;32m      9\u001b[0m face_match\u001b[38;5;241m=\u001b[39m\u001b[38;5;241m0\u001b[39m\n",
      "\u001b[1;31mModuleNotFoundError\u001b[0m: No module named 'face_recognition'"
     ]
    }
   ],
   "source": [
    "import cgi\n",
    "\n",
    "from base64 import b64decode\n",
    "\n",
    "import face_recognition\n",
    "\n",
    "formData = cgi.FieldStorage()\n",
    "\n",
    "face_match=0\n",
    "\n",
    "image=formDate.getvalue(\"current_image\")\n",
    "\n",
    "email=formData.getvalue(\"email\")\n",
    "\n",
    "data_url = image\n",
    "\n",
    "header, encode = data_url.split(\",\",1)\n",
    "\n",
    "data = b64decode(encode)\n",
    "\n",
    "with open(\"image.png\", \"wb\") as f:\n",
    "\n",
    "    f.write(data)\n",
    "\n",
    "got_image = face_recognition.load_image_file(\"image.png\")\n",
    "\n",
    "existing_image = face_recognition.load_image_file(\"stidents/\"+email+\".jpg\")\n",
    "\n",
    "got_image_fatialfeatures = face_recognition.face_encodings(got_image)[0]\n",
    "\n",
    "existing_image_fatialfeatures = face_recognition.face_encoding(existing_image)[0]\n",
    "\n",
    "results=face_recognition.compare_faces([esisting_image_fatialfeatures],got_image_fatialfeatures)\n",
    "\n",
    "if(results[0]):\n",
    "    \n",
    "    face_match=1\n",
    "    \n",
    "else:\n",
    "    \n",
    "    face_match=0\n",
    "    \n",
    "print(\"content - Type: test/html\")\n",
    "\n",
    "pint()\n",
    "\n",
    "if(face_match==1):\n",
    "    \n",
    "    print(\"<script>alert('welcome \",email,\" ')</script>\")\n",
    "    \n",
    "else:\n",
    "    \n",
    "    print(\"<script>alert('face not recognized')</script>\")"
   ]
  },
  {
   "cell_type": "code",
   "execution_count": null,
   "id": "1edddd69",
   "metadata": {},
   "outputs": [],
   "source": []
  }
 ],
 "metadata": {
  "kernelspec": {
   "display_name": "Python 3 (ipykernel)",
   "language": "python",
   "name": "python3"
  },
  "language_info": {
   "codemirror_mode": {
    "name": "ipython",
    "version": 3
   },
   "file_extension": ".py",
   "mimetype": "text/x-python",
   "name": "python",
   "nbconvert_exporter": "python",
   "pygments_lexer": "ipython3",
   "version": "3.9.13"
  }
 },
 "nbformat": 4,
 "nbformat_minor": 5
}
